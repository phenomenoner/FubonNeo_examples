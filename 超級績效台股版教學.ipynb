{
  "cells": [
    {
      "cell_type": "markdown",
      "metadata": {
        "id": "view-in-github",
        "colab_type": "text"
      },
      "source": [
        "<a href=\"https://colab.research.google.com/github/phenomenoner/FubonNeo_examples/blob/main/%E8%B6%85%E7%B4%9A%E7%B8%BE%E6%95%88%E5%8F%B0%E8%82%A1%E7%89%88%E6%95%99%E5%AD%B8.ipynb\" target=\"_parent\"><img src=\"https://colab.research.google.com/assets/colab-badge.svg\" alt=\"Open In Colab\"/></a>"
      ]
    },
    {
      "cell_type": "code",
      "execution_count": null,
      "metadata": {
        "colab": {
          "background_save": true
        },
        "id": "foSKuxXIQaPQ"
      },
      "outputs": [],
      "source": []
    },
    {
      "cell_type": "markdown",
      "metadata": {
        "id": "FtegjW9CXuVL"
      },
      "source": [
        "# 下載金融數據\n",
        "\n",
        "可以透過 Finlab 輕鬆下載 600 萬筆歷史資料："
      ]
    },
    {
      "cell_type": "code",
      "execution_count": null,
      "metadata": {
        "id": "iBAoxXNCXrcl"
      },
      "outputs": [],
      "source": []
    },
    {
      "cell_type": "markdown",
      "metadata": {
        "id": "UFp4KTdAWQxz"
      },
      "source": [
        "# 超級績效：趨勢樣版\n",
        "\n",
        "上述的條件是用來尋找符合特定趨勢的股票或其他金融資產。這些條件大多基於移動平均和其他統計計算，用來判斷股價的相對表現。下面是各個條件的詳細介紹：\n",
        "\n",
        "1. **condition0**: 股價高於其50天移動平均。這通常表示短期內股價表現正面。\n",
        "2. **condition1**: 股價高於其150天移動平均。這表示股價在中期內表現良好。\n",
        "3. **condition2**: 股價高於其200天移動平均。這是長期看漲的信號。\n",
        "4. **condition3**: 20天移動平均高於200天移動平均。這表明短期趨勢勝過長期趨勢，通常被視為進入點。\n",
        "5. **condition4**: 50天移動平均顯示持續20天內至少15天上升。這顯示了一個持續的上升趨勢。\n",
        "6. **condition5**: 重複了 condition3，20天移動平均高於200天移動平均。\n",
        "7. **condition6**: 50天移動平均高於150天移動平均。這顯示了中期相對於更長期的強勢。\n",
        "8. **condition7**: 股價高於過去250天最低價的125%。這表示股價有顯著上升。\n",
        "9. **condition8**: 股價低於過去250天最高價的125%。這可能表示股價未達到過度高估。\n",
        "10. **condition9**: 股價相對於其20天移動平均的標準差的位置在過去百分比中排在前30%。這是衡量價格波動性與其平均值之間的偏差。\n",
        "\n",
        "綜合這些條件，可以幫助投資者識別出那些符合特定上升或穩定趨勢的股票，從而作出更有信息的投資決策。"
      ]
    },
    {
      "cell_type": "code",
      "execution_count": null,
      "metadata": {
        "id": "zba1-MtWT6xr"
      },
      "outputs": [],
      "source": []
    },
    {
      "cell_type": "markdown",
      "metadata": {
        "id": "BM7rBOEHTSlF"
      },
      "source": [
        "# 分析趨勢樣版於台股交易"
      ]
    },
    {
      "cell_type": "markdown",
      "metadata": {
        "id": "SHt_OFyIUNbc"
      },
      "source": [
        "## 信息係數 (IC)\n",
        "\n",
        "信息係數（IC）是量化金融中用來評估金融預測模型表現的統計量度。它量化了預測與實際股票回報之間的關係，基本上是測量預測與結果之間的相關性。\n",
        "\n",
        "### 數學定義\n",
        "\n",
        "信息係數（IC）定義為預測值和實際值之間的皮爾森相關係數：\n",
        "\n",
        "$$\n",
        "\\text{IC} = \\frac{\\text{Cov}(R_f, R_a)}{\\sigma_{R_f} \\sigma_{R_a}}\n",
        "$$\n",
        "\n",
        "其中：\n",
        "- $ R_f $ 是預測回報。\n",
        "- $ R_a $ 是實際回報。\n",
        "- $ \\text{Cov}(R_f, R_a) $ 是預測回報和實際回報之間的共變數。\n",
        "- $ \\sigma_{R_f} $ 和 $ \\sigma_{R_a} $ 分別是預測回報和實際回報的標準差。\n",
        "\n",
        "### 解釋\n",
        "\n",
        "- **正 IC 值**：表示預測與實際結果方向一致，一般來說，建議大於0.05。\n",
        "- **負 IC 值**：表明預測與實際結果方向相反。\n",
        "- **IC 值接近 0**：暗示預測與結果之間沒有線性關係。\n",
        "\n",
        "IC 對於評估模型在預測市場運動方向的技能是至關重要的，通常用來增強投資組合管理策略。"
      ]
    },
    {
      "cell_type": "code",
      "execution_count": null,
      "metadata": {
        "colab": {
          "base_uri": "https://localhost:8080/",
          "height": 536
        },
        "id": "nLcuAmOcOldc",
        "outputId": "9ed56492-df74-46f6-a858-3a6c1264d76a"
      },
      "outputs": [
        {
          "name": "stdout",
          "output_type": "stream",
          "text": [
            "calculate factor data 0\n",
            "calculate factor data 1\n",
            "calculate factor data 2\n",
            "calculate factor data 3\n",
            "calculate factor data 4\n",
            "calculate factor data 5\n",
            "calculate factor data 6\n",
            "calculate factor data 7\n",
            "calculate factor data 8\n",
            "calculate factor data 9\n"
          ]
        },
        {
          "data": {
            "text/html": [
              "<style type=\"text/css\">\n",
              "#T_ea1d5_row0_col0, #T_ea1d5_row0_col1, #T_ea1d5_row7_col2, #T_ea1d5_row7_col3 {\n",
              "  background-color: #023858;\n",
              "  color: #f1f1f1;\n",
              "}\n",
              "#T_ea1d5_row0_col2 {\n",
              "  background-color: #04649e;\n",
              "  color: #f1f1f1;\n",
              "}\n",
              "#T_ea1d5_row0_col3 {\n",
              "  background-color: #157ab5;\n",
              "  color: #f1f1f1;\n",
              "}\n",
              "#T_ea1d5_row1_col0 {\n",
              "  background-color: #05659f;\n",
              "  color: #f1f1f1;\n",
              "}\n",
              "#T_ea1d5_row1_col1, #T_ea1d5_row3_col3, #T_ea1d5_row5_col3 {\n",
              "  background-color: #045788;\n",
              "  color: #f1f1f1;\n",
              "}\n",
              "#T_ea1d5_row1_col2, #T_ea1d5_row2_col2 {\n",
              "  background-color: #03456c;\n",
              "  color: #f1f1f1;\n",
              "}\n",
              "#T_ea1d5_row1_col3 {\n",
              "  background-color: #045483;\n",
              "  color: #f1f1f1;\n",
              "}\n",
              "#T_ea1d5_row2_col0 {\n",
              "  background-color: #056faf;\n",
              "  color: #f1f1f1;\n",
              "}\n",
              "#T_ea1d5_row2_col1 {\n",
              "  background-color: #046097;\n",
              "  color: #f1f1f1;\n",
              "}\n",
              "#T_ea1d5_row2_col3 {\n",
              "  background-color: #034871;\n",
              "  color: #f1f1f1;\n",
              "}\n",
              "#T_ea1d5_row3_col0, #T_ea1d5_row5_col0 {\n",
              "  background-color: #2383ba;\n",
              "  color: #f1f1f1;\n",
              "}\n",
              "#T_ea1d5_row3_col1, #T_ea1d5_row5_col1 {\n",
              "  background-color: #1379b5;\n",
              "  color: #f1f1f1;\n",
              "}\n",
              "#T_ea1d5_row3_col2, #T_ea1d5_row5_col2 {\n",
              "  background-color: #045e93;\n",
              "  color: #f1f1f1;\n",
              "}\n",
              "#T_ea1d5_row4_col0 {\n",
              "  background-color: #78abd0;\n",
              "  color: #f1f1f1;\n",
              "}\n",
              "#T_ea1d5_row4_col1 {\n",
              "  background-color: #63a2cb;\n",
              "  color: #f1f1f1;\n",
              "}\n",
              "#T_ea1d5_row4_col2 {\n",
              "  background-color: #1c7fb8;\n",
              "  color: #f1f1f1;\n",
              "}\n",
              "#T_ea1d5_row4_col3 {\n",
              "  background-color: #2685bb;\n",
              "  color: #f1f1f1;\n",
              "}\n",
              "#T_ea1d5_row6_col0 {\n",
              "  background-color: #4e9ac6;\n",
              "  color: #f1f1f1;\n",
              "}\n",
              "#T_ea1d5_row6_col1 {\n",
              "  background-color: #3790c0;\n",
              "  color: #f1f1f1;\n",
              "}\n",
              "#T_ea1d5_row6_col2 {\n",
              "  background-color: #0569a5;\n",
              "  color: #f1f1f1;\n",
              "}\n",
              "#T_ea1d5_row6_col3 {\n",
              "  background-color: #197db7;\n",
              "  color: #f1f1f1;\n",
              "}\n",
              "#T_ea1d5_row7_col0 {\n",
              "  background-color: #04629a;\n",
              "  color: #f1f1f1;\n",
              "}\n",
              "#T_ea1d5_row7_col1 {\n",
              "  background-color: #045382;\n",
              "  color: #f1f1f1;\n",
              "}\n",
              "#T_ea1d5_row8_col0, #T_ea1d5_row8_col1, #T_ea1d5_row8_col2, #T_ea1d5_row8_col3 {\n",
              "  background-color: #fff7fb;\n",
              "  color: #000000;\n",
              "}\n",
              "#T_ea1d5_row9_col0 {\n",
              "  background-color: #83afd3;\n",
              "  color: #f1f1f1;\n",
              "}\n",
              "#T_ea1d5_row9_col1 {\n",
              "  background-color: #348ebf;\n",
              "  color: #f1f1f1;\n",
              "}\n",
              "#T_ea1d5_row9_col2 {\n",
              "  background-color: #529bc7;\n",
              "  color: #f1f1f1;\n",
              "}\n",
              "#T_ea1d5_row9_col3 {\n",
              "  background-color: #bfc9e1;\n",
              "  color: #000000;\n",
              "}\n",
              "</style>\n",
              "<table id=\"T_ea1d5\" class=\"dataframe\">\n",
              "  <thead>\n",
              "    <tr>\n",
              "      <th class=\"blank level0\" >&nbsp;</th>\n",
              "      <th id=\"T_ea1d5_level0_col0\" class=\"col_heading level0 col0\" >5D</th>\n",
              "      <th id=\"T_ea1d5_level0_col1\" class=\"col_heading level0 col1\" >10D</th>\n",
              "      <th id=\"T_ea1d5_level0_col2\" class=\"col_heading level0 col2\" >20D</th>\n",
              "      <th id=\"T_ea1d5_level0_col3\" class=\"col_heading level0 col3\" >60D</th>\n",
              "    </tr>\n",
              "  </thead>\n",
              "  <tbody>\n",
              "    <tr>\n",
              "      <th id=\"T_ea1d5_level0_row0\" class=\"row_heading level0 row0\" >0</th>\n",
              "      <td id=\"T_ea1d5_row0_col0\" class=\"data row0 col0\" >0.024329</td>\n",
              "      <td id=\"T_ea1d5_row0_col1\" class=\"data row0 col1\" >0.029677</td>\n",
              "      <td id=\"T_ea1d5_row0_col2\" class=\"data row0 col2\" >0.020665</td>\n",
              "      <td id=\"T_ea1d5_row0_col3\" class=\"data row0 col3\" >0.030368</td>\n",
              "    </tr>\n",
              "    <tr>\n",
              "      <th id=\"T_ea1d5_level0_row1\" class=\"row_heading level0 row1\" >1</th>\n",
              "      <td id=\"T_ea1d5_row1_col0\" class=\"data row1 col0\" >0.018069</td>\n",
              "      <td id=\"T_ea1d5_row1_col1\" class=\"data row1 col1\" >0.024839</td>\n",
              "      <td id=\"T_ea1d5_row1_col2\" class=\"data row1 col2\" >0.027005</td>\n",
              "      <td id=\"T_ea1d5_row1_col3\" class=\"data row1 col3\" >0.039577</td>\n",
              "    </tr>\n",
              "    <tr>\n",
              "      <th id=\"T_ea1d5_level0_row2\" class=\"row_heading level0 row2\" >2</th>\n",
              "      <td id=\"T_ea1d5_row2_col0\" class=\"data row2 col0\" >0.016183</td>\n",
              "      <td id=\"T_ea1d5_row2_col1\" class=\"data row2 col1\" >0.022758</td>\n",
              "      <td id=\"T_ea1d5_row2_col2\" class=\"data row2 col2\" >0.026860</td>\n",
              "      <td id=\"T_ea1d5_row2_col3\" class=\"data row2 col3\" >0.041539</td>\n",
              "    </tr>\n",
              "    <tr>\n",
              "      <th id=\"T_ea1d5_level0_row3\" class=\"row_heading level0 row3\" >3</th>\n",
              "      <td id=\"T_ea1d5_row3_col0\" class=\"data row3 col0\" >0.013521</td>\n",
              "      <td id=\"T_ea1d5_row3_col1\" class=\"data row3 col1\" >0.017516</td>\n",
              "      <td id=\"T_ea1d5_row3_col2\" class=\"data row3 col2\" >0.022583</td>\n",
              "      <td id=\"T_ea1d5_row3_col3\" class=\"data row3 col3\" >0.038882</td>\n",
              "    </tr>\n",
              "    <tr>\n",
              "      <th id=\"T_ea1d5_level0_row4\" class=\"row_heading level0 row4\" >4</th>\n",
              "      <td id=\"T_ea1d5_row4_col0\" class=\"data row4 col0\" >0.007529</td>\n",
              "      <td id=\"T_ea1d5_row4_col1\" class=\"data row4 col1\" >0.009756</td>\n",
              "      <td id=\"T_ea1d5_row4_col2\" class=\"data row4 col2\" >0.014961</td>\n",
              "      <td id=\"T_ea1d5_row4_col3\" class=\"data row4 col3\" >0.028261</td>\n",
              "    </tr>\n",
              "    <tr>\n",
              "      <th id=\"T_ea1d5_level0_row5\" class=\"row_heading level0 row5\" >5</th>\n",
              "      <td id=\"T_ea1d5_row5_col0\" class=\"data row5 col0\" >0.013521</td>\n",
              "      <td id=\"T_ea1d5_row5_col1\" class=\"data row5 col1\" >0.017516</td>\n",
              "      <td id=\"T_ea1d5_row5_col2\" class=\"data row5 col2\" >0.022583</td>\n",
              "      <td id=\"T_ea1d5_row5_col3\" class=\"data row5 col3\" >0.038882</td>\n",
              "    </tr>\n",
              "    <tr>\n",
              "      <th id=\"T_ea1d5_level0_row6\" class=\"row_heading level0 row6\" >6</th>\n",
              "      <td id=\"T_ea1d5_row6_col0\" class=\"data row6 col0\" >0.010364</td>\n",
              "      <td id=\"T_ea1d5_row6_col1\" class=\"data row6 col1\" >0.013717</td>\n",
              "      <td id=\"T_ea1d5_row6_col2\" class=\"data row6 col2\" >0.019464</td>\n",
              "      <td id=\"T_ea1d5_row6_col3\" class=\"data row6 col3\" >0.029730</td>\n",
              "    </tr>\n",
              "    <tr>\n",
              "      <th id=\"T_ea1d5_level0_row7\" class=\"row_heading level0 row7\" >7</th>\n",
              "      <td id=\"T_ea1d5_row7_col0\" class=\"data row7 col0\" >0.018547</td>\n",
              "      <td id=\"T_ea1d5_row7_col1\" class=\"data row7 col1\" >0.025415</td>\n",
              "      <td id=\"T_ea1d5_row7_col2\" class=\"data row7 col2\" >0.029172</td>\n",
              "      <td id=\"T_ea1d5_row7_col3\" class=\"data row7 col3\" >0.044566</td>\n",
              "    </tr>\n",
              "    <tr>\n",
              "      <th id=\"T_ea1d5_level0_row8\" class=\"row_heading level0 row8\" >8</th>\n",
              "      <td id=\"T_ea1d5_row8_col0\" class=\"data row8 col0\" >-0.008727</td>\n",
              "      <td id=\"T_ea1d5_row8_col1\" class=\"data row8 col1\" >-0.012825</td>\n",
              "      <td id=\"T_ea1d5_row8_col2\" class=\"data row8 col2\" >-0.016370</td>\n",
              "      <td id=\"T_ea1d5_row8_col3\" class=\"data row8 col3\" >-0.004201</td>\n",
              "    </tr>\n",
              "    <tr>\n",
              "      <th id=\"T_ea1d5_level0_row9\" class=\"row_heading level0 row9\" >9</th>\n",
              "      <td id=\"T_ea1d5_row9_col0\" class=\"data row9 col0\" >0.006562</td>\n",
              "      <td id=\"T_ea1d5_row9_col1\" class=\"data row9 col1\" >0.013955</td>\n",
              "      <td id=\"T_ea1d5_row9_col2\" class=\"data row9 col2\" >0.009573</td>\n",
              "      <td id=\"T_ea1d5_row9_col3\" class=\"data row9 col3\" >0.010527</td>\n",
              "    </tr>\n",
              "  </tbody>\n",
              "</table>\n"
            ],
            "text/plain": [
              "<pandas.io.formats.style.Styler at 0x7aa218125570>"
            ]
          },
          "execution_count": 21,
          "metadata": {},
          "output_type": "execute_result"
        }
      ],
      "source": [
        "import pandas as pd\n",
        "from finlab.tools.event_study import create_factor_data\n",
        "\n",
        "ic = []\n",
        "conditions = [condition0, condition1, condition2, condition3, condition4, condition5, condition6, condition7, condition8, condition9]\n",
        "for i, condition in enumerate(conditions):\n",
        "    print('calculate factor data', i)\n",
        "\n",
        "    # 計算 IC(information coefficient)\n",
        "    fdata = create_factor_data(condition, data.get('etl:adj_close'))\n",
        "    ic.append(fdata.corr()['factor_factor'][['5D', '10D', '20D', '60D']])\n",
        "\n",
        "# 繪製色溫圖\n",
        "pd.DataFrame(ic).reset_index(drop=True).round(3).style.background_gradient()\n",
        "#?"
      ]
    },
    {
      "cell_type": "markdown",
      "metadata": {
        "id": "NrsZ89djTwQg"
      },
      "source": [
        "# 趨勢樣版回測\n",
        "\n",
        "這段代碼是使用 `finlab` 庫來進行回測的範例。`finlab` 是一個專門用於金融數據分析和回測的 Python 庫。以下是代碼的具體解釋："
      ]
    },
    {
      "cell_type": "code",
      "execution_count": null,
      "metadata": {
        "id": "BWMf5oBwVZ66"
      },
      "outputs": [],
      "source": []
    },
    {
      "cell_type": "code",
      "execution_count": null,
      "metadata": {
        "id": "SvtaAdPbceQf"
      },
      "outputs": [],
      "source": []
    },
    {
      "cell_type": "code",
      "execution_count": null,
      "metadata": {
        "id": "3bEdSFArXvJM"
      },
      "outputs": [],
      "source": []
    }
  ],
  "metadata": {
    "colab": {
      "provenance": [],
      "include_colab_link": true
    },
    "kernelspec": {
      "display_name": "Python 3",
      "name": "python3"
    },
    "language_info": {
      "name": "python"
    }
  },
  "nbformat": 4,
  "nbformat_minor": 0
}